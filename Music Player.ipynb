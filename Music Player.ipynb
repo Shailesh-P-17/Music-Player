{
 "cells": [
  {
   "cell_type": "markdown",
   "id": "336594c2",
   "metadata": {},
   "source": [
    "# Music Player"
   ]
  },
  {
   "cell_type": "markdown",
   "id": "8cce3d4b",
   "metadata": {},
   "source": [
    "#A music player application using the tkinter and pygame libraries in python.The application allows user to browse and select an audio file in MP3 format.Once a file is selected, the user can contro; the playback using buttons for play,pause,resume and stop functionalities.The application also provides a volume scale to adjust the volume of the music.The pygame mixer module handles the loading and playing of the selected audio file. The tkinter library creates the graphical user interface(GUI) with an entry feild to display the selected file path, buttons for file browsing and music control, and a scale for volume adjustment.The application runs continuously, allowing users to interact with the GUI until it is closed."
   ]
  },
  {
   "cell_type": "code",
   "execution_count": 2,
   "id": "eaca1495",
   "metadata": {},
   "outputs": [],
   "source": [
    "import tkinter as tk\n",
    "import pygame\n",
    "from tkinter import filedialog"
   ]
  },
  {
   "cell_type": "code",
   "execution_count": 3,
   "id": "4e48f9ad",
   "metadata": {},
   "outputs": [
    {
     "name": "stderr",
     "output_type": "stream",
     "text": [
      "Exception in Tkinter callback\n",
      "Traceback (most recent call last):\n",
      "  File \"C:\\ProgramData\\anaconda3\\lib\\tkinter\\__init__.py\", line 1921, in __call__\n",
      "    return self.func(*args)\n",
      "  File \"C:\\Users\\shailesh pandey\\AppData\\Local\\Temp\\ipykernel_15708\\3913285498.py\", line 19, in set_volume\n",
      "    pygame.mixer.music.set_volume(volume)\n",
      "TypeError: must be real number, not str\n"
     ]
    }
   ],
   "source": [
    "\n",
    "def play_music():\n",
    "    try:\n",
    "        file_path = file_path_entry.get()\n",
    "        pygame.mixer.music.load(file_path)\n",
    "        pygame.mixer.music.play()\n",
    "    except pygame.error as e:\n",
    "        print(\"Error occurred while playing the music:\", str(e))\n",
    "\n",
    "def pause_music():\n",
    "    pygame.mixer.music.pause()\n",
    "\n",
    "def resume_music():\n",
    "    pygame.mixer.music.unpause()\n",
    "\n",
    "def stop_music():\n",
    "    pygame.mixer.music.stop()\n",
    "\n",
    "def set_volume(volume):\n",
    "    pygame.mixer.music.set_volume(volume)\n",
    "\n",
    "def browse_file():\n",
    "    file_path = filedialog.askopenfilename(filetypes=((\"Audio files\", \"*.mp3\"), (\"All files\", \"*.*\")))\n",
    "    file_path_entry.delete(0, tk.END)\n",
    "    file_path_entry.insert(tk.END, file_path)\n",
    "\n",
    "# Initialize pygame mixer\n",
    "pygame.mixer.init()\n",
    "\n",
    "# Create the main window\n",
    "window = tk.Tk()\n",
    "window.title(\"Music Player\")\n",
    "\n",
    "# Create the file path entry\n",
    "file_path_entry = tk.Entry(window, width=50)\n",
    "file_path_entry.pack()\n",
    "\n",
    "# Create the browse button\n",
    "browse_button = tk.Button(window, text=\"Browse\", command=browse_file, width=5, height=1)\n",
    "browse_button.pack(side=tk.LEFT, fill=tk.BOTH, expand=True)\n",
    "\n",
    "# Create the play button\n",
    "play_button = tk.Button(window, text=\"Play\", command=play_music, width=5, height=1)\n",
    "play_button.pack(side=tk.LEFT, fill=tk.BOTH, expand=True)\n",
    "\n",
    "# Create the pause button\n",
    "pause_button = tk.Button(window, text=\"Pause\", command=pause_music, width=5, height=1)\n",
    "pause_button.pack(side=tk.LEFT, fill=tk.BOTH, expand=True)\n",
    "\n",
    "# Create the resume button\n",
    "resume_button = tk.Button(window, text=\"Resume\", command=resume_music, width=5, height=1)\n",
    "resume_button.pack(side=tk.LEFT, fill=tk.BOTH, expand=True)\n",
    "\n",
    "# Create the stop button\n",
    "stop_button = tk.Button(window, text=\"Stop\", command=stop_music, width=5, height=1)\n",
    "stop_button.pack(side=tk.LEFT, fill=tk.BOTH, expand=True)\n",
    "\n",
    "# Create the volume scale\n",
    "volume_label = tk.Label(window, text=\"Volume\")\n",
    "volume_label.pack()\n",
    "\n",
    "volume_scale = tk.Scale(window, from_=0, to=100, resolution=1, orient=tk.HORIZONTAL, command=set_volume)\n",
    "volume_scale.set(25)\n",
    "volume_scale.pack()\n",
    "\n",
    "# Run the GUI main loop\n",
    "window.mainloop()"
   ]
  }
 ],
 "metadata": {
  "kernelspec": {
   "display_name": "Python 3 (ipykernel)",
   "language": "python",
   "name": "python3"
  },
  "language_info": {
   "codemirror_mode": {
    "name": "ipython",
    "version": 3
   },
   "file_extension": ".py",
   "mimetype": "text/x-python",
   "name": "python",
   "nbconvert_exporter": "python",
   "pygments_lexer": "ipython3",
   "version": "3.10.9"
  }
 },
 "nbformat": 4,
 "nbformat_minor": 5
}
